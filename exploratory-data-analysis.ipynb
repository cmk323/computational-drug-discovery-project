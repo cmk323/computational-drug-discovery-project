{
 "cells": [
  {
   "cell_type": "markdown",
   "metadata": {},
   "source": [
    "# Exploratory data analysis"
   ]
  },
  {
   "cell_type": "code",
   "execution_count": 38,
   "metadata": {},
   "outputs": [
    {
     "name": "stdout",
     "output_type": "stream",
     "text": [
      "Requirement already satisfied: seaborn in c:\\users\\cmkin\\anaconda3\\envs\\my-rdkit-env\\lib\\site-packages (0.11.2)\n",
      "Requirement already satisfied: matplotlib>=2.2 in c:\\users\\cmkin\\anaconda3\\envs\\my-rdkit-env\\lib\\site-packages (from seaborn) (3.5.1)\n",
      "Requirement already satisfied: scipy>=1.0 in c:\\users\\cmkin\\anaconda3\\envs\\my-rdkit-env\\lib\\site-packages (from seaborn) (1.8.0)\n",
      "Requirement already satisfied: pandas>=0.23 in c:\\users\\cmkin\\anaconda3\\envs\\my-rdkit-env\\lib\\site-packages (from seaborn) (1.4.2)\n",
      "Requirement already satisfied: numpy>=1.15 in c:\\users\\cmkin\\anaconda3\\envs\\my-rdkit-env\\lib\\site-packages (from seaborn) (1.22.3)\n",
      "Requirement already satisfied: pyparsing>=2.2.1 in c:\\users\\cmkin\\anaconda3\\envs\\my-rdkit-env\\lib\\site-packages (from matplotlib>=2.2->seaborn) (3.0.8)\n",
      "Requirement already satisfied: packaging>=20.0 in c:\\users\\cmkin\\anaconda3\\envs\\my-rdkit-env\\lib\\site-packages (from matplotlib>=2.2->seaborn) (21.3)\n",
      "Requirement already satisfied: fonttools>=4.22.0 in c:\\users\\cmkin\\anaconda3\\envs\\my-rdkit-env\\lib\\site-packages (from matplotlib>=2.2->seaborn) (4.33.3)\n",
      "Requirement already satisfied: python-dateutil>=2.7 in c:\\users\\cmkin\\anaconda3\\envs\\my-rdkit-env\\lib\\site-packages (from matplotlib>=2.2->seaborn) (2.8.2)\n",
      "Requirement already satisfied: cycler>=0.10 in c:\\users\\cmkin\\anaconda3\\envs\\my-rdkit-env\\lib\\site-packages (from matplotlib>=2.2->seaborn) (0.11.0)\n",
      "Requirement already satisfied: kiwisolver>=1.0.1 in c:\\users\\cmkin\\anaconda3\\envs\\my-rdkit-env\\lib\\site-packages (from matplotlib>=2.2->seaborn) (1.4.2)\n",
      "Requirement already satisfied: pillow>=6.2.0 in c:\\users\\cmkin\\anaconda3\\envs\\my-rdkit-env\\lib\\site-packages (from matplotlib>=2.2->seaborn) (9.1.0)\n",
      "Requirement already satisfied: pytz>=2020.1 in c:\\users\\cmkin\\anaconda3\\envs\\my-rdkit-env\\lib\\site-packages (from pandas>=0.23->seaborn) (2022.1)\n",
      "Requirement already satisfied: six>=1.5 in c:\\users\\cmkin\\anaconda3\\envs\\my-rdkit-env\\lib\\site-packages (from python-dateutil>=2.7->matplotlib>=2.2->seaborn) (1.16.0)\n",
      "Requirement already satisfied: patool in c:\\users\\cmkin\\anaconda3\\envs\\my-rdkit-env\\lib\\site-packages (1.12)\n"
     ]
    }
   ],
   "source": [
    "! pip install seaborn\n",
    "! pip install patool\n",
    "import sys\n",
    "sys.path.append('/usr/local/lib/python3.9/site-packages/')"
   ]
  },
  {
   "cell_type": "code",
   "execution_count": 39,
   "metadata": {},
   "outputs": [],
   "source": [
    "import pandas as pd"
   ]
  },
  {
   "cell_type": "code",
   "execution_count": 40,
   "metadata": {},
   "outputs": [],
   "source": [
    "df = pd.read_csv('bioactivity_preprocessed_data.csv')"
   ]
  },
  {
   "cell_type": "markdown",
   "metadata": {},
   "source": [
    "# Calculate Lipinski descriptors"
   ]
  },
  {
   "cell_type": "markdown",
   "metadata": {},
   "source": [
    "Lipinski descriptors, developed by Christopher Lipinski, are a means of evaluating the \"druglikeness\" of compounds based on factors like absorption, distribution, metabolism, and excretion (aka ADME). This is also known as the pharmacokinetic profile of a compound. \n",
    "\n",
    "Lipinski's Rule sets the following criteria for \"druglikeness\":\n",
    "- molecular weight < 500 Da\n",
    "- octanol-water partition coefficient (LogP) < 5\n",
    "- hydrogen bond donors < 5\n",
    "- hydrogen bond acceptors < 10"
   ]
  },
  {
   "cell_type": "code",
   "execution_count": 41,
   "metadata": {},
   "outputs": [],
   "source": [
    "import numpy as np\n",
    "from rdkit import Chem\n",
    "from rdkit.Chem import Descriptors, Lipinski"
   ]
  },
  {
   "cell_type": "markdown",
   "metadata": {},
   "source": [
    "Calculate descriptors"
   ]
  },
  {
   "cell_type": "code",
   "execution_count": 42,
   "metadata": {},
   "outputs": [],
   "source": [
    "# Inspired by: https://codeocean.com/explore/capsules?query=tag:data-curation\n",
    "\n",
    "# function for calculating Lipinski descriptors given an input of SMILES\n",
    "# notation which contains exact atomic details of molecule\n",
    "\n",
    "def lipinski(smiles, verbose=False):\n",
    "\n",
    "    moldata= []\n",
    "    for elem in smiles:\n",
    "        mol=Chem.MolFromSmiles(elem) \n",
    "        moldata.append(mol)\n",
    "       \n",
    "    baseData= np.arange(1,1)\n",
    "    i=0  \n",
    "    for mol in moldata:        \n",
    "       \n",
    "        desc_MolWt = Descriptors.MolWt(mol)\n",
    "        desc_MolLogP = Descriptors.MolLogP(mol)\n",
    "        desc_NumHDonors = Lipinski.NumHDonors(mol)\n",
    "        desc_NumHAcceptors = Lipinski.NumHAcceptors(mol)\n",
    "           \n",
    "        row = np.array([desc_MolWt,\n",
    "                        desc_MolLogP,\n",
    "                        desc_NumHDonors,\n",
    "                        desc_NumHAcceptors])   \n",
    "    \n",
    "        if(i==0):\n",
    "            baseData=row\n",
    "        else:\n",
    "            baseData=np.vstack([baseData, row])\n",
    "        i=i+1      \n",
    "    \n",
    "    columnNames=[\"MW\",\"LogP\",\"NumHDonors\",\"NumHAcceptors\"]   \n",
    "    descriptors = pd.DataFrame(data=baseData,columns=columnNames)\n",
    "    \n",
    "    return descriptors"
   ]
  },
  {
   "cell_type": "code",
   "execution_count": 43,
   "metadata": {},
   "outputs": [],
   "source": [
    "df_lipinski = lipinski(df.canonical_smiles)"
   ]
  },
  {
   "cell_type": "markdown",
   "metadata": {},
   "source": [
    "# Combine DataFrames"
   ]
  },
  {
   "cell_type": "markdown",
   "metadata": {},
   "source": [
    "Firstly, the DataFrame obtained from the lipinski function:"
   ]
  },
  {
   "cell_type": "code",
   "execution_count": 44,
   "metadata": {},
   "outputs": [
    {
     "data": {
      "text/html": [
       "<div>\n",
       "<style scoped>\n",
       "    .dataframe tbody tr th:only-of-type {\n",
       "        vertical-align: middle;\n",
       "    }\n",
       "\n",
       "    .dataframe tbody tr th {\n",
       "        vertical-align: top;\n",
       "    }\n",
       "\n",
       "    .dataframe thead th {\n",
       "        text-align: right;\n",
       "    }\n",
       "</style>\n",
       "<table border=\"1\" class=\"dataframe\">\n",
       "  <thead>\n",
       "    <tr style=\"text-align: right;\">\n",
       "      <th></th>\n",
       "      <th>MW</th>\n",
       "      <th>LogP</th>\n",
       "      <th>NumHDonors</th>\n",
       "      <th>NumHAcceptors</th>\n",
       "    </tr>\n",
       "  </thead>\n",
       "  <tbody>\n",
       "    <tr>\n",
       "      <th>0</th>\n",
       "      <td>393.483</td>\n",
       "      <td>5.21400</td>\n",
       "      <td>1.0</td>\n",
       "      <td>5.0</td>\n",
       "    </tr>\n",
       "    <tr>\n",
       "      <th>1</th>\n",
       "      <td>380.444</td>\n",
       "      <td>3.85650</td>\n",
       "      <td>3.0</td>\n",
       "      <td>5.0</td>\n",
       "    </tr>\n",
       "    <tr>\n",
       "      <th>2</th>\n",
       "      <td>262.357</td>\n",
       "      <td>0.94970</td>\n",
       "      <td>3.0</td>\n",
       "      <td>4.0</td>\n",
       "    </tr>\n",
       "    <tr>\n",
       "      <th>3</th>\n",
       "      <td>262.357</td>\n",
       "      <td>0.94970</td>\n",
       "      <td>3.0</td>\n",
       "      <td>4.0</td>\n",
       "    </tr>\n",
       "    <tr>\n",
       "      <th>4</th>\n",
       "      <td>274.368</td>\n",
       "      <td>0.95130</td>\n",
       "      <td>3.0</td>\n",
       "      <td>4.0</td>\n",
       "    </tr>\n",
       "    <tr>\n",
       "      <th>...</th>\n",
       "      <td>...</td>\n",
       "      <td>...</td>\n",
       "      <td>...</td>\n",
       "      <td>...</td>\n",
       "    </tr>\n",
       "    <tr>\n",
       "      <th>598</th>\n",
       "      <td>316.405</td>\n",
       "      <td>1.36482</td>\n",
       "      <td>2.0</td>\n",
       "      <td>5.0</td>\n",
       "    </tr>\n",
       "    <tr>\n",
       "      <th>599</th>\n",
       "      <td>338.415</td>\n",
       "      <td>2.32836</td>\n",
       "      <td>0.0</td>\n",
       "      <td>6.0</td>\n",
       "    </tr>\n",
       "    <tr>\n",
       "      <th>600</th>\n",
       "      <td>338.415</td>\n",
       "      <td>2.32836</td>\n",
       "      <td>0.0</td>\n",
       "      <td>6.0</td>\n",
       "    </tr>\n",
       "    <tr>\n",
       "      <th>601</th>\n",
       "      <td>311.746</td>\n",
       "      <td>3.37930</td>\n",
       "      <td>2.0</td>\n",
       "      <td>5.0</td>\n",
       "    </tr>\n",
       "    <tr>\n",
       "      <th>602</th>\n",
       "      <td>311.746</td>\n",
       "      <td>3.37930</td>\n",
       "      <td>2.0</td>\n",
       "      <td>5.0</td>\n",
       "    </tr>\n",
       "  </tbody>\n",
       "</table>\n",
       "<p>603 rows × 4 columns</p>\n",
       "</div>"
      ],
      "text/plain": [
       "          MW     LogP  NumHDonors  NumHAcceptors\n",
       "0    393.483  5.21400         1.0            5.0\n",
       "1    380.444  3.85650         3.0            5.0\n",
       "2    262.357  0.94970         3.0            4.0\n",
       "3    262.357  0.94970         3.0            4.0\n",
       "4    274.368  0.95130         3.0            4.0\n",
       "..       ...      ...         ...            ...\n",
       "598  316.405  1.36482         2.0            5.0\n",
       "599  338.415  2.32836         0.0            6.0\n",
       "600  338.415  2.32836         0.0            6.0\n",
       "601  311.746  3.37930         2.0            5.0\n",
       "602  311.746  3.37930         2.0            5.0\n",
       "\n",
       "[603 rows x 4 columns]"
      ]
     },
     "execution_count": 44,
     "metadata": {},
     "output_type": "execute_result"
    }
   ],
   "source": [
    "df_lipinski"
   ]
  },
  {
   "cell_type": "markdown",
   "metadata": {},
   "source": [
    "Secondly, the DataFrame containing molecule_chembl_id, standard_value, and bioactivity_class values:"
   ]
  },
  {
   "cell_type": "code",
   "execution_count": 45,
   "metadata": {},
   "outputs": [
    {
     "data": {
      "text/html": [
       "<div>\n",
       "<style scoped>\n",
       "    .dataframe tbody tr th:only-of-type {\n",
       "        vertical-align: middle;\n",
       "    }\n",
       "\n",
       "    .dataframe tbody tr th {\n",
       "        vertical-align: top;\n",
       "    }\n",
       "\n",
       "    .dataframe thead th {\n",
       "        text-align: right;\n",
       "    }\n",
       "</style>\n",
       "<table border=\"1\" class=\"dataframe\">\n",
       "  <thead>\n",
       "    <tr style=\"text-align: right;\">\n",
       "      <th></th>\n",
       "      <th>molecule_chembl_id</th>\n",
       "      <th>canonical_smiles</th>\n",
       "      <th>standard_value</th>\n",
       "      <th>bioactivity_class</th>\n",
       "    </tr>\n",
       "  </thead>\n",
       "  <tbody>\n",
       "    <tr>\n",
       "      <th>0</th>\n",
       "      <td>CHEMBL4063356</td>\n",
       "      <td>CCOC(=O)c1c(-c2ccccc2)oc2ccc(O)c(CN3CCC(C)CC3)c12</td>\n",
       "      <td>260.00</td>\n",
       "      <td>active</td>\n",
       "    </tr>\n",
       "    <tr>\n",
       "      <th>1</th>\n",
       "      <td>CHEMBL4443524</td>\n",
       "      <td>CNC(=O)c1c(-c2ccc(O)cc2)oc2ccc(O)c(CN3CCCCC3)c12</td>\n",
       "      <td>0.19</td>\n",
       "      <td>active</td>\n",
       "    </tr>\n",
       "    <tr>\n",
       "      <th>2</th>\n",
       "      <td>CHEMBL3442631</td>\n",
       "      <td>CNC(=O)c1cc2c(nc1NC(C)C)CCNCC2</td>\n",
       "      <td>60252.77</td>\n",
       "      <td>inactive</td>\n",
       "    </tr>\n",
       "    <tr>\n",
       "      <th>3</th>\n",
       "      <td>CHEMBL3442631</td>\n",
       "      <td>CNC(=O)c1cc2c(nc1NC(C)C)CCNCC2</td>\n",
       "      <td>24975.53</td>\n",
       "      <td>inactive</td>\n",
       "    </tr>\n",
       "    <tr>\n",
       "      <th>4</th>\n",
       "      <td>CHEMBL3442632</td>\n",
       "      <td>CNC(=O)c1cc2c(nc1NCC1CC1)CCNCC2</td>\n",
       "      <td>71971.34</td>\n",
       "      <td>inactive</td>\n",
       "    </tr>\n",
       "    <tr>\n",
       "      <th>...</th>\n",
       "      <td>...</td>\n",
       "      <td>...</td>\n",
       "      <td>...</td>\n",
       "      <td>...</td>\n",
       "    </tr>\n",
       "    <tr>\n",
       "      <th>598</th>\n",
       "      <td>CHEMBL3487994</td>\n",
       "      <td>Cc1cnn(CC(C)NCC(=O)NCCOc2ccccc2)c1</td>\n",
       "      <td>100000.00</td>\n",
       "      <td>inactive</td>\n",
       "    </tr>\n",
       "    <tr>\n",
       "      <th>599</th>\n",
       "      <td>CHEMBL3493579</td>\n",
       "      <td>Cc1nc(C)n(C2CCCN(C(=O)c3nc(C)n4ccccc34)C2)n1</td>\n",
       "      <td>8775.22</td>\n",
       "      <td>intermediate</td>\n",
       "    </tr>\n",
       "    <tr>\n",
       "      <th>600</th>\n",
       "      <td>CHEMBL3493579</td>\n",
       "      <td>Cc1nc(C)n(C2CCCN(C(=O)c3nc(C)n4ccccc34)C2)n1</td>\n",
       "      <td>12694.87</td>\n",
       "      <td>inactive</td>\n",
       "    </tr>\n",
       "    <tr>\n",
       "      <th>601</th>\n",
       "      <td>CHEMBL3496335</td>\n",
       "      <td>COc1cc(/C=C/c2ncc(C(=O)O)s2)cc(Cl)c1O</td>\n",
       "      <td>23660.95</td>\n",
       "      <td>inactive</td>\n",
       "    </tr>\n",
       "    <tr>\n",
       "      <th>602</th>\n",
       "      <td>CHEMBL3496335</td>\n",
       "      <td>COc1cc(/C=C/c2ncc(C(=O)O)s2)cc(Cl)c1O</td>\n",
       "      <td>18688.05</td>\n",
       "      <td>inactive</td>\n",
       "    </tr>\n",
       "  </tbody>\n",
       "</table>\n",
       "<p>603 rows × 4 columns</p>\n",
       "</div>"
      ],
      "text/plain": [
       "    molecule_chembl_id                                   canonical_smiles  \\\n",
       "0        CHEMBL4063356  CCOC(=O)c1c(-c2ccccc2)oc2ccc(O)c(CN3CCC(C)CC3)c12   \n",
       "1        CHEMBL4443524   CNC(=O)c1c(-c2ccc(O)cc2)oc2ccc(O)c(CN3CCCCC3)c12   \n",
       "2        CHEMBL3442631                     CNC(=O)c1cc2c(nc1NC(C)C)CCNCC2   \n",
       "3        CHEMBL3442631                     CNC(=O)c1cc2c(nc1NC(C)C)CCNCC2   \n",
       "4        CHEMBL3442632                    CNC(=O)c1cc2c(nc1NCC1CC1)CCNCC2   \n",
       "..                 ...                                                ...   \n",
       "598      CHEMBL3487994                 Cc1cnn(CC(C)NCC(=O)NCCOc2ccccc2)c1   \n",
       "599      CHEMBL3493579       Cc1nc(C)n(C2CCCN(C(=O)c3nc(C)n4ccccc34)C2)n1   \n",
       "600      CHEMBL3493579       Cc1nc(C)n(C2CCCN(C(=O)c3nc(C)n4ccccc34)C2)n1   \n",
       "601      CHEMBL3496335              COc1cc(/C=C/c2ncc(C(=O)O)s2)cc(Cl)c1O   \n",
       "602      CHEMBL3496335              COc1cc(/C=C/c2ncc(C(=O)O)s2)cc(Cl)c1O   \n",
       "\n",
       "     standard_value bioactivity_class  \n",
       "0            260.00            active  \n",
       "1              0.19            active  \n",
       "2          60252.77          inactive  \n",
       "3          24975.53          inactive  \n",
       "4          71971.34          inactive  \n",
       "..              ...               ...  \n",
       "598       100000.00          inactive  \n",
       "599         8775.22      intermediate  \n",
       "600        12694.87          inactive  \n",
       "601        23660.95          inactive  \n",
       "602        18688.05          inactive  \n",
       "\n",
       "[603 rows x 4 columns]"
      ]
     },
     "execution_count": 45,
     "metadata": {},
     "output_type": "execute_result"
    }
   ],
   "source": [
    "df"
   ]
  },
  {
   "cell_type": "code",
   "execution_count": 46,
   "metadata": {},
   "outputs": [],
   "source": [
    "df_combined = pd.concat([df,df_lipinski], axis=1)"
   ]
  },
  {
   "cell_type": "code",
   "execution_count": 47,
   "metadata": {},
   "outputs": [
    {
     "data": {
      "text/html": [
       "<div>\n",
       "<style scoped>\n",
       "    .dataframe tbody tr th:only-of-type {\n",
       "        vertical-align: middle;\n",
       "    }\n",
       "\n",
       "    .dataframe tbody tr th {\n",
       "        vertical-align: top;\n",
       "    }\n",
       "\n",
       "    .dataframe thead th {\n",
       "        text-align: right;\n",
       "    }\n",
       "</style>\n",
       "<table border=\"1\" class=\"dataframe\">\n",
       "  <thead>\n",
       "    <tr style=\"text-align: right;\">\n",
       "      <th></th>\n",
       "      <th>molecule_chembl_id</th>\n",
       "      <th>canonical_smiles</th>\n",
       "      <th>standard_value</th>\n",
       "      <th>bioactivity_class</th>\n",
       "      <th>MW</th>\n",
       "      <th>LogP</th>\n",
       "      <th>NumHDonors</th>\n",
       "      <th>NumHAcceptors</th>\n",
       "    </tr>\n",
       "  </thead>\n",
       "  <tbody>\n",
       "    <tr>\n",
       "      <th>0</th>\n",
       "      <td>CHEMBL4063356</td>\n",
       "      <td>CCOC(=O)c1c(-c2ccccc2)oc2ccc(O)c(CN3CCC(C)CC3)c12</td>\n",
       "      <td>260.00</td>\n",
       "      <td>active</td>\n",
       "      <td>393.483</td>\n",
       "      <td>5.21400</td>\n",
       "      <td>1.0</td>\n",
       "      <td>5.0</td>\n",
       "    </tr>\n",
       "    <tr>\n",
       "      <th>1</th>\n",
       "      <td>CHEMBL4443524</td>\n",
       "      <td>CNC(=O)c1c(-c2ccc(O)cc2)oc2ccc(O)c(CN3CCCCC3)c12</td>\n",
       "      <td>0.19</td>\n",
       "      <td>active</td>\n",
       "      <td>380.444</td>\n",
       "      <td>3.85650</td>\n",
       "      <td>3.0</td>\n",
       "      <td>5.0</td>\n",
       "    </tr>\n",
       "    <tr>\n",
       "      <th>2</th>\n",
       "      <td>CHEMBL3442631</td>\n",
       "      <td>CNC(=O)c1cc2c(nc1NC(C)C)CCNCC2</td>\n",
       "      <td>60252.77</td>\n",
       "      <td>inactive</td>\n",
       "      <td>262.357</td>\n",
       "      <td>0.94970</td>\n",
       "      <td>3.0</td>\n",
       "      <td>4.0</td>\n",
       "    </tr>\n",
       "    <tr>\n",
       "      <th>3</th>\n",
       "      <td>CHEMBL3442631</td>\n",
       "      <td>CNC(=O)c1cc2c(nc1NC(C)C)CCNCC2</td>\n",
       "      <td>24975.53</td>\n",
       "      <td>inactive</td>\n",
       "      <td>262.357</td>\n",
       "      <td>0.94970</td>\n",
       "      <td>3.0</td>\n",
       "      <td>4.0</td>\n",
       "    </tr>\n",
       "    <tr>\n",
       "      <th>4</th>\n",
       "      <td>CHEMBL3442632</td>\n",
       "      <td>CNC(=O)c1cc2c(nc1NCC1CC1)CCNCC2</td>\n",
       "      <td>71971.34</td>\n",
       "      <td>inactive</td>\n",
       "      <td>274.368</td>\n",
       "      <td>0.95130</td>\n",
       "      <td>3.0</td>\n",
       "      <td>4.0</td>\n",
       "    </tr>\n",
       "    <tr>\n",
       "      <th>...</th>\n",
       "      <td>...</td>\n",
       "      <td>...</td>\n",
       "      <td>...</td>\n",
       "      <td>...</td>\n",
       "      <td>...</td>\n",
       "      <td>...</td>\n",
       "      <td>...</td>\n",
       "      <td>...</td>\n",
       "    </tr>\n",
       "    <tr>\n",
       "      <th>598</th>\n",
       "      <td>CHEMBL3487994</td>\n",
       "      <td>Cc1cnn(CC(C)NCC(=O)NCCOc2ccccc2)c1</td>\n",
       "      <td>100000.00</td>\n",
       "      <td>inactive</td>\n",
       "      <td>316.405</td>\n",
       "      <td>1.36482</td>\n",
       "      <td>2.0</td>\n",
       "      <td>5.0</td>\n",
       "    </tr>\n",
       "    <tr>\n",
       "      <th>599</th>\n",
       "      <td>CHEMBL3493579</td>\n",
       "      <td>Cc1nc(C)n(C2CCCN(C(=O)c3nc(C)n4ccccc34)C2)n1</td>\n",
       "      <td>8775.22</td>\n",
       "      <td>intermediate</td>\n",
       "      <td>338.415</td>\n",
       "      <td>2.32836</td>\n",
       "      <td>0.0</td>\n",
       "      <td>6.0</td>\n",
       "    </tr>\n",
       "    <tr>\n",
       "      <th>600</th>\n",
       "      <td>CHEMBL3493579</td>\n",
       "      <td>Cc1nc(C)n(C2CCCN(C(=O)c3nc(C)n4ccccc34)C2)n1</td>\n",
       "      <td>12694.87</td>\n",
       "      <td>inactive</td>\n",
       "      <td>338.415</td>\n",
       "      <td>2.32836</td>\n",
       "      <td>0.0</td>\n",
       "      <td>6.0</td>\n",
       "    </tr>\n",
       "    <tr>\n",
       "      <th>601</th>\n",
       "      <td>CHEMBL3496335</td>\n",
       "      <td>COc1cc(/C=C/c2ncc(C(=O)O)s2)cc(Cl)c1O</td>\n",
       "      <td>23660.95</td>\n",
       "      <td>inactive</td>\n",
       "      <td>311.746</td>\n",
       "      <td>3.37930</td>\n",
       "      <td>2.0</td>\n",
       "      <td>5.0</td>\n",
       "    </tr>\n",
       "    <tr>\n",
       "      <th>602</th>\n",
       "      <td>CHEMBL3496335</td>\n",
       "      <td>COc1cc(/C=C/c2ncc(C(=O)O)s2)cc(Cl)c1O</td>\n",
       "      <td>18688.05</td>\n",
       "      <td>inactive</td>\n",
       "      <td>311.746</td>\n",
       "      <td>3.37930</td>\n",
       "      <td>2.0</td>\n",
       "      <td>5.0</td>\n",
       "    </tr>\n",
       "  </tbody>\n",
       "</table>\n",
       "<p>603 rows × 8 columns</p>\n",
       "</div>"
      ],
      "text/plain": [
       "    molecule_chembl_id                                   canonical_smiles  \\\n",
       "0        CHEMBL4063356  CCOC(=O)c1c(-c2ccccc2)oc2ccc(O)c(CN3CCC(C)CC3)c12   \n",
       "1        CHEMBL4443524   CNC(=O)c1c(-c2ccc(O)cc2)oc2ccc(O)c(CN3CCCCC3)c12   \n",
       "2        CHEMBL3442631                     CNC(=O)c1cc2c(nc1NC(C)C)CCNCC2   \n",
       "3        CHEMBL3442631                     CNC(=O)c1cc2c(nc1NC(C)C)CCNCC2   \n",
       "4        CHEMBL3442632                    CNC(=O)c1cc2c(nc1NCC1CC1)CCNCC2   \n",
       "..                 ...                                                ...   \n",
       "598      CHEMBL3487994                 Cc1cnn(CC(C)NCC(=O)NCCOc2ccccc2)c1   \n",
       "599      CHEMBL3493579       Cc1nc(C)n(C2CCCN(C(=O)c3nc(C)n4ccccc34)C2)n1   \n",
       "600      CHEMBL3493579       Cc1nc(C)n(C2CCCN(C(=O)c3nc(C)n4ccccc34)C2)n1   \n",
       "601      CHEMBL3496335              COc1cc(/C=C/c2ncc(C(=O)O)s2)cc(Cl)c1O   \n",
       "602      CHEMBL3496335              COc1cc(/C=C/c2ncc(C(=O)O)s2)cc(Cl)c1O   \n",
       "\n",
       "     standard_value bioactivity_class       MW     LogP  NumHDonors  \\\n",
       "0            260.00            active  393.483  5.21400         1.0   \n",
       "1              0.19            active  380.444  3.85650         3.0   \n",
       "2          60252.77          inactive  262.357  0.94970         3.0   \n",
       "3          24975.53          inactive  262.357  0.94970         3.0   \n",
       "4          71971.34          inactive  274.368  0.95130         3.0   \n",
       "..              ...               ...      ...      ...         ...   \n",
       "598       100000.00          inactive  316.405  1.36482         2.0   \n",
       "599         8775.22      intermediate  338.415  2.32836         0.0   \n",
       "600        12694.87          inactive  338.415  2.32836         0.0   \n",
       "601        23660.95          inactive  311.746  3.37930         2.0   \n",
       "602        18688.05          inactive  311.746  3.37930         2.0   \n",
       "\n",
       "     NumHAcceptors  \n",
       "0              5.0  \n",
       "1              5.0  \n",
       "2              4.0  \n",
       "3              4.0  \n",
       "4              4.0  \n",
       "..             ...  \n",
       "598            5.0  \n",
       "599            6.0  \n",
       "600            6.0  \n",
       "601            5.0  \n",
       "602            5.0  \n",
       "\n",
       "[603 rows x 8 columns]"
      ]
     },
     "execution_count": 47,
     "metadata": {},
     "output_type": "execute_result"
    }
   ],
   "source": [
    "df_combined"
   ]
  },
  {
   "cell_type": "markdown",
   "metadata": {},
   "source": [
    "# Convert IC50 to pIC50"
   ]
  },
  {
   "cell_type": "markdown",
   "metadata": {},
   "source": [
    "IC50 must be converted to a negative logarithmic scale (-log10(IC50)) to allow more uniform distribution of data.\n",
    "\n",
    "The custom function pIC50() accepts a DataFrame as input and will:\n",
    "- Take the IC50 values from the standard_value column and convert them from nM to M by multiplying the value by 10^-9\n",
    "- Take the molar value and apply -log10\n",
    "- Delete the standard_value column and create a new pIC50 column"
   ]
  },
  {
   "cell_type": "code",
   "execution_count": 48,
   "metadata": {},
   "outputs": [],
   "source": [
    "# https://github.com/chaninlab/estrogen-receptor-alpha-qsar/blob/master/02_ER_alpha_RO5.ipynb\n",
    "\n",
    "import numpy as np\n",
    "\n",
    "def pIC50(input):\n",
    "    pIC50 = []\n",
    "\n",
    "    for i in input['standard_value_norm']:\n",
    "        molar = i*(10**-9) # Converts nM to M\n",
    "        pIC50.append(-np.log10(molar))\n",
    "\n",
    "    input['pIC50'] = pIC50\n",
    "    x = input.drop('standard_value_norm', 1)\n",
    "        \n",
    "    return x"
   ]
  },
  {
   "cell_type": "markdown",
   "metadata": {},
   "source": [
    "Note: Values greater than 100,000,000 will be fixed at 100,000,000 otherwise the negative logarithmic value will become negative. "
   ]
  },
  {
   "cell_type": "code",
   "execution_count": 49,
   "metadata": {},
   "outputs": [
    {
     "data": {
      "text/plain": [
       "count       603.000000\n",
       "mean      66820.666633\n",
       "std       38851.431269\n",
       "min           0.190000\n",
       "25%       22788.650000\n",
       "50%      100000.000000\n",
       "75%      100000.000000\n",
       "max      100000.000000\n",
       "Name: standard_value, dtype: float64"
      ]
     },
     "execution_count": 49,
     "metadata": {},
     "output_type": "execute_result"
    }
   ],
   "source": [
    "df_combined.standard_value.describe()"
   ]
  },
  {
   "cell_type": "markdown",
   "metadata": {},
   "source": [
    "Apply the norm_value() function to normalize the values in the standard_value column"
   ]
  },
  {
   "cell_type": "code",
   "execution_count": 50,
   "metadata": {},
   "outputs": [],
   "source": [
    "def norm_value(input):\n",
    "    norm = []\n",
    "\n",
    "    for i in input['standard_value']:\n",
    "        if i > 100000000:\n",
    "          i = 100000000\n",
    "        norm.append(i)\n",
    "\n",
    "    input['standard_value_norm'] = norm\n",
    "    x = input.drop('standard_value', 1)\n",
    "        \n",
    "    return x"
   ]
  },
  {
   "cell_type": "code",
   "execution_count": 51,
   "metadata": {},
   "outputs": [
    {
     "name": "stderr",
     "output_type": "stream",
     "text": [
      "C:\\Users\\cmkin\\AppData\\Local\\Temp\\ipykernel_27284\\3416609517.py:10: FutureWarning: In a future version of pandas all arguments of DataFrame.drop except for the argument 'labels' will be keyword-only.\n",
      "  x = input.drop('standard_value', 1)\n"
     ]
    },
    {
     "data": {
      "text/html": [
       "<div>\n",
       "<style scoped>\n",
       "    .dataframe tbody tr th:only-of-type {\n",
       "        vertical-align: middle;\n",
       "    }\n",
       "\n",
       "    .dataframe tbody tr th {\n",
       "        vertical-align: top;\n",
       "    }\n",
       "\n",
       "    .dataframe thead th {\n",
       "        text-align: right;\n",
       "    }\n",
       "</style>\n",
       "<table border=\"1\" class=\"dataframe\">\n",
       "  <thead>\n",
       "    <tr style=\"text-align: right;\">\n",
       "      <th></th>\n",
       "      <th>molecule_chembl_id</th>\n",
       "      <th>canonical_smiles</th>\n",
       "      <th>bioactivity_class</th>\n",
       "      <th>MW</th>\n",
       "      <th>LogP</th>\n",
       "      <th>NumHDonors</th>\n",
       "      <th>NumHAcceptors</th>\n",
       "      <th>standard_value_norm</th>\n",
       "    </tr>\n",
       "  </thead>\n",
       "  <tbody>\n",
       "    <tr>\n",
       "      <th>0</th>\n",
       "      <td>CHEMBL4063356</td>\n",
       "      <td>CCOC(=O)c1c(-c2ccccc2)oc2ccc(O)c(CN3CCC(C)CC3)c12</td>\n",
       "      <td>active</td>\n",
       "      <td>393.483</td>\n",
       "      <td>5.21400</td>\n",
       "      <td>1.0</td>\n",
       "      <td>5.0</td>\n",
       "      <td>260.00</td>\n",
       "    </tr>\n",
       "    <tr>\n",
       "      <th>1</th>\n",
       "      <td>CHEMBL4443524</td>\n",
       "      <td>CNC(=O)c1c(-c2ccc(O)cc2)oc2ccc(O)c(CN3CCCCC3)c12</td>\n",
       "      <td>active</td>\n",
       "      <td>380.444</td>\n",
       "      <td>3.85650</td>\n",
       "      <td>3.0</td>\n",
       "      <td>5.0</td>\n",
       "      <td>0.19</td>\n",
       "    </tr>\n",
       "    <tr>\n",
       "      <th>2</th>\n",
       "      <td>CHEMBL3442631</td>\n",
       "      <td>CNC(=O)c1cc2c(nc1NC(C)C)CCNCC2</td>\n",
       "      <td>inactive</td>\n",
       "      <td>262.357</td>\n",
       "      <td>0.94970</td>\n",
       "      <td>3.0</td>\n",
       "      <td>4.0</td>\n",
       "      <td>60252.77</td>\n",
       "    </tr>\n",
       "    <tr>\n",
       "      <th>3</th>\n",
       "      <td>CHEMBL3442631</td>\n",
       "      <td>CNC(=O)c1cc2c(nc1NC(C)C)CCNCC2</td>\n",
       "      <td>inactive</td>\n",
       "      <td>262.357</td>\n",
       "      <td>0.94970</td>\n",
       "      <td>3.0</td>\n",
       "      <td>4.0</td>\n",
       "      <td>24975.53</td>\n",
       "    </tr>\n",
       "    <tr>\n",
       "      <th>4</th>\n",
       "      <td>CHEMBL3442632</td>\n",
       "      <td>CNC(=O)c1cc2c(nc1NCC1CC1)CCNCC2</td>\n",
       "      <td>inactive</td>\n",
       "      <td>274.368</td>\n",
       "      <td>0.95130</td>\n",
       "      <td>3.0</td>\n",
       "      <td>4.0</td>\n",
       "      <td>71971.34</td>\n",
       "    </tr>\n",
       "    <tr>\n",
       "      <th>...</th>\n",
       "      <td>...</td>\n",
       "      <td>...</td>\n",
       "      <td>...</td>\n",
       "      <td>...</td>\n",
       "      <td>...</td>\n",
       "      <td>...</td>\n",
       "      <td>...</td>\n",
       "      <td>...</td>\n",
       "    </tr>\n",
       "    <tr>\n",
       "      <th>598</th>\n",
       "      <td>CHEMBL3487994</td>\n",
       "      <td>Cc1cnn(CC(C)NCC(=O)NCCOc2ccccc2)c1</td>\n",
       "      <td>inactive</td>\n",
       "      <td>316.405</td>\n",
       "      <td>1.36482</td>\n",
       "      <td>2.0</td>\n",
       "      <td>5.0</td>\n",
       "      <td>100000.00</td>\n",
       "    </tr>\n",
       "    <tr>\n",
       "      <th>599</th>\n",
       "      <td>CHEMBL3493579</td>\n",
       "      <td>Cc1nc(C)n(C2CCCN(C(=O)c3nc(C)n4ccccc34)C2)n1</td>\n",
       "      <td>intermediate</td>\n",
       "      <td>338.415</td>\n",
       "      <td>2.32836</td>\n",
       "      <td>0.0</td>\n",
       "      <td>6.0</td>\n",
       "      <td>8775.22</td>\n",
       "    </tr>\n",
       "    <tr>\n",
       "      <th>600</th>\n",
       "      <td>CHEMBL3493579</td>\n",
       "      <td>Cc1nc(C)n(C2CCCN(C(=O)c3nc(C)n4ccccc34)C2)n1</td>\n",
       "      <td>inactive</td>\n",
       "      <td>338.415</td>\n",
       "      <td>2.32836</td>\n",
       "      <td>0.0</td>\n",
       "      <td>6.0</td>\n",
       "      <td>12694.87</td>\n",
       "    </tr>\n",
       "    <tr>\n",
       "      <th>601</th>\n",
       "      <td>CHEMBL3496335</td>\n",
       "      <td>COc1cc(/C=C/c2ncc(C(=O)O)s2)cc(Cl)c1O</td>\n",
       "      <td>inactive</td>\n",
       "      <td>311.746</td>\n",
       "      <td>3.37930</td>\n",
       "      <td>2.0</td>\n",
       "      <td>5.0</td>\n",
       "      <td>23660.95</td>\n",
       "    </tr>\n",
       "    <tr>\n",
       "      <th>602</th>\n",
       "      <td>CHEMBL3496335</td>\n",
       "      <td>COc1cc(/C=C/c2ncc(C(=O)O)s2)cc(Cl)c1O</td>\n",
       "      <td>inactive</td>\n",
       "      <td>311.746</td>\n",
       "      <td>3.37930</td>\n",
       "      <td>2.0</td>\n",
       "      <td>5.0</td>\n",
       "      <td>18688.05</td>\n",
       "    </tr>\n",
       "  </tbody>\n",
       "</table>\n",
       "<p>603 rows × 8 columns</p>\n",
       "</div>"
      ],
      "text/plain": [
       "    molecule_chembl_id                                   canonical_smiles  \\\n",
       "0        CHEMBL4063356  CCOC(=O)c1c(-c2ccccc2)oc2ccc(O)c(CN3CCC(C)CC3)c12   \n",
       "1        CHEMBL4443524   CNC(=O)c1c(-c2ccc(O)cc2)oc2ccc(O)c(CN3CCCCC3)c12   \n",
       "2        CHEMBL3442631                     CNC(=O)c1cc2c(nc1NC(C)C)CCNCC2   \n",
       "3        CHEMBL3442631                     CNC(=O)c1cc2c(nc1NC(C)C)CCNCC2   \n",
       "4        CHEMBL3442632                    CNC(=O)c1cc2c(nc1NCC1CC1)CCNCC2   \n",
       "..                 ...                                                ...   \n",
       "598      CHEMBL3487994                 Cc1cnn(CC(C)NCC(=O)NCCOc2ccccc2)c1   \n",
       "599      CHEMBL3493579       Cc1nc(C)n(C2CCCN(C(=O)c3nc(C)n4ccccc34)C2)n1   \n",
       "600      CHEMBL3493579       Cc1nc(C)n(C2CCCN(C(=O)c3nc(C)n4ccccc34)C2)n1   \n",
       "601      CHEMBL3496335              COc1cc(/C=C/c2ncc(C(=O)O)s2)cc(Cl)c1O   \n",
       "602      CHEMBL3496335              COc1cc(/C=C/c2ncc(C(=O)O)s2)cc(Cl)c1O   \n",
       "\n",
       "    bioactivity_class       MW     LogP  NumHDonors  NumHAcceptors  \\\n",
       "0              active  393.483  5.21400         1.0            5.0   \n",
       "1              active  380.444  3.85650         3.0            5.0   \n",
       "2            inactive  262.357  0.94970         3.0            4.0   \n",
       "3            inactive  262.357  0.94970         3.0            4.0   \n",
       "4            inactive  274.368  0.95130         3.0            4.0   \n",
       "..                ...      ...      ...         ...            ...   \n",
       "598          inactive  316.405  1.36482         2.0            5.0   \n",
       "599      intermediate  338.415  2.32836         0.0            6.0   \n",
       "600          inactive  338.415  2.32836         0.0            6.0   \n",
       "601          inactive  311.746  3.37930         2.0            5.0   \n",
       "602          inactive  311.746  3.37930         2.0            5.0   \n",
       "\n",
       "     standard_value_norm  \n",
       "0                 260.00  \n",
       "1                   0.19  \n",
       "2               60252.77  \n",
       "3               24975.53  \n",
       "4               71971.34  \n",
       "..                   ...  \n",
       "598            100000.00  \n",
       "599              8775.22  \n",
       "600             12694.87  \n",
       "601             23660.95  \n",
       "602             18688.05  \n",
       "\n",
       "[603 rows x 8 columns]"
      ]
     },
     "execution_count": 51,
     "metadata": {},
     "output_type": "execute_result"
    }
   ],
   "source": [
    "df_norm = norm_value(df_combined)\n",
    "df_norm"
   ]
  },
  {
   "cell_type": "code",
   "execution_count": 52,
   "metadata": {},
   "outputs": [
    {
     "data": {
      "text/plain": [
       "count       603.000000\n",
       "mean      66820.666633\n",
       "std       38851.431269\n",
       "min           0.190000\n",
       "25%       22788.650000\n",
       "50%      100000.000000\n",
       "75%      100000.000000\n",
       "max      100000.000000\n",
       "Name: standard_value_norm, dtype: float64"
      ]
     },
     "execution_count": 52,
     "metadata": {},
     "output_type": "execute_result"
    }
   ],
   "source": [
    "df_norm.standard_value_norm.describe()"
   ]
  },
  {
   "cell_type": "code",
   "execution_count": 53,
   "metadata": {},
   "outputs": [
    {
     "name": "stderr",
     "output_type": "stream",
     "text": [
      "C:\\Users\\cmkin\\AppData\\Local\\Temp\\ipykernel_27284\\3442786292.py:13: FutureWarning: In a future version of pandas all arguments of DataFrame.drop except for the argument 'labels' will be keyword-only.\n",
      "  x = input.drop('standard_value_norm', 1)\n"
     ]
    },
    {
     "data": {
      "text/html": [
       "<div>\n",
       "<style scoped>\n",
       "    .dataframe tbody tr th:only-of-type {\n",
       "        vertical-align: middle;\n",
       "    }\n",
       "\n",
       "    .dataframe tbody tr th {\n",
       "        vertical-align: top;\n",
       "    }\n",
       "\n",
       "    .dataframe thead th {\n",
       "        text-align: right;\n",
       "    }\n",
       "</style>\n",
       "<table border=\"1\" class=\"dataframe\">\n",
       "  <thead>\n",
       "    <tr style=\"text-align: right;\">\n",
       "      <th></th>\n",
       "      <th>molecule_chembl_id</th>\n",
       "      <th>canonical_smiles</th>\n",
       "      <th>bioactivity_class</th>\n",
       "      <th>MW</th>\n",
       "      <th>LogP</th>\n",
       "      <th>NumHDonors</th>\n",
       "      <th>NumHAcceptors</th>\n",
       "      <th>pIC50</th>\n",
       "    </tr>\n",
       "  </thead>\n",
       "  <tbody>\n",
       "    <tr>\n",
       "      <th>0</th>\n",
       "      <td>CHEMBL4063356</td>\n",
       "      <td>CCOC(=O)c1c(-c2ccccc2)oc2ccc(O)c(CN3CCC(C)CC3)c12</td>\n",
       "      <td>active</td>\n",
       "      <td>393.483</td>\n",
       "      <td>5.21400</td>\n",
       "      <td>1.0</td>\n",
       "      <td>5.0</td>\n",
       "      <td>6.585027</td>\n",
       "    </tr>\n",
       "    <tr>\n",
       "      <th>1</th>\n",
       "      <td>CHEMBL4443524</td>\n",
       "      <td>CNC(=O)c1c(-c2ccc(O)cc2)oc2ccc(O)c(CN3CCCCC3)c12</td>\n",
       "      <td>active</td>\n",
       "      <td>380.444</td>\n",
       "      <td>3.85650</td>\n",
       "      <td>3.0</td>\n",
       "      <td>5.0</td>\n",
       "      <td>9.721246</td>\n",
       "    </tr>\n",
       "    <tr>\n",
       "      <th>2</th>\n",
       "      <td>CHEMBL3442631</td>\n",
       "      <td>CNC(=O)c1cc2c(nc1NC(C)C)CCNCC2</td>\n",
       "      <td>inactive</td>\n",
       "      <td>262.357</td>\n",
       "      <td>0.94970</td>\n",
       "      <td>3.0</td>\n",
       "      <td>4.0</td>\n",
       "      <td>4.220023</td>\n",
       "    </tr>\n",
       "    <tr>\n",
       "      <th>3</th>\n",
       "      <td>CHEMBL3442631</td>\n",
       "      <td>CNC(=O)c1cc2c(nc1NC(C)C)CCNCC2</td>\n",
       "      <td>inactive</td>\n",
       "      <td>262.357</td>\n",
       "      <td>0.94970</td>\n",
       "      <td>3.0</td>\n",
       "      <td>4.0</td>\n",
       "      <td>4.602485</td>\n",
       "    </tr>\n",
       "    <tr>\n",
       "      <th>4</th>\n",
       "      <td>CHEMBL3442632</td>\n",
       "      <td>CNC(=O)c1cc2c(nc1NCC1CC1)CCNCC2</td>\n",
       "      <td>inactive</td>\n",
       "      <td>274.368</td>\n",
       "      <td>0.95130</td>\n",
       "      <td>3.0</td>\n",
       "      <td>4.0</td>\n",
       "      <td>4.142840</td>\n",
       "    </tr>\n",
       "    <tr>\n",
       "      <th>...</th>\n",
       "      <td>...</td>\n",
       "      <td>...</td>\n",
       "      <td>...</td>\n",
       "      <td>...</td>\n",
       "      <td>...</td>\n",
       "      <td>...</td>\n",
       "      <td>...</td>\n",
       "      <td>...</td>\n",
       "    </tr>\n",
       "    <tr>\n",
       "      <th>598</th>\n",
       "      <td>CHEMBL3487994</td>\n",
       "      <td>Cc1cnn(CC(C)NCC(=O)NCCOc2ccccc2)c1</td>\n",
       "      <td>inactive</td>\n",
       "      <td>316.405</td>\n",
       "      <td>1.36482</td>\n",
       "      <td>2.0</td>\n",
       "      <td>5.0</td>\n",
       "      <td>4.000000</td>\n",
       "    </tr>\n",
       "    <tr>\n",
       "      <th>599</th>\n",
       "      <td>CHEMBL3493579</td>\n",
       "      <td>Cc1nc(C)n(C2CCCN(C(=O)c3nc(C)n4ccccc34)C2)n1</td>\n",
       "      <td>intermediate</td>\n",
       "      <td>338.415</td>\n",
       "      <td>2.32836</td>\n",
       "      <td>0.0</td>\n",
       "      <td>6.0</td>\n",
       "      <td>5.056742</td>\n",
       "    </tr>\n",
       "    <tr>\n",
       "      <th>600</th>\n",
       "      <td>CHEMBL3493579</td>\n",
       "      <td>Cc1nc(C)n(C2CCCN(C(=O)c3nc(C)n4ccccc34)C2)n1</td>\n",
       "      <td>inactive</td>\n",
       "      <td>338.415</td>\n",
       "      <td>2.32836</td>\n",
       "      <td>0.0</td>\n",
       "      <td>6.0</td>\n",
       "      <td>4.896372</td>\n",
       "    </tr>\n",
       "    <tr>\n",
       "      <th>601</th>\n",
       "      <td>CHEMBL3496335</td>\n",
       "      <td>COc1cc(/C=C/c2ncc(C(=O)O)s2)cc(Cl)c1O</td>\n",
       "      <td>inactive</td>\n",
       "      <td>311.746</td>\n",
       "      <td>3.37930</td>\n",
       "      <td>2.0</td>\n",
       "      <td>5.0</td>\n",
       "      <td>4.625968</td>\n",
       "    </tr>\n",
       "    <tr>\n",
       "      <th>602</th>\n",
       "      <td>CHEMBL3496335</td>\n",
       "      <td>COc1cc(/C=C/c2ncc(C(=O)O)s2)cc(Cl)c1O</td>\n",
       "      <td>inactive</td>\n",
       "      <td>311.746</td>\n",
       "      <td>3.37930</td>\n",
       "      <td>2.0</td>\n",
       "      <td>5.0</td>\n",
       "      <td>4.728436</td>\n",
       "    </tr>\n",
       "  </tbody>\n",
       "</table>\n",
       "<p>603 rows × 8 columns</p>\n",
       "</div>"
      ],
      "text/plain": [
       "    molecule_chembl_id                                   canonical_smiles  \\\n",
       "0        CHEMBL4063356  CCOC(=O)c1c(-c2ccccc2)oc2ccc(O)c(CN3CCC(C)CC3)c12   \n",
       "1        CHEMBL4443524   CNC(=O)c1c(-c2ccc(O)cc2)oc2ccc(O)c(CN3CCCCC3)c12   \n",
       "2        CHEMBL3442631                     CNC(=O)c1cc2c(nc1NC(C)C)CCNCC2   \n",
       "3        CHEMBL3442631                     CNC(=O)c1cc2c(nc1NC(C)C)CCNCC2   \n",
       "4        CHEMBL3442632                    CNC(=O)c1cc2c(nc1NCC1CC1)CCNCC2   \n",
       "..                 ...                                                ...   \n",
       "598      CHEMBL3487994                 Cc1cnn(CC(C)NCC(=O)NCCOc2ccccc2)c1   \n",
       "599      CHEMBL3493579       Cc1nc(C)n(C2CCCN(C(=O)c3nc(C)n4ccccc34)C2)n1   \n",
       "600      CHEMBL3493579       Cc1nc(C)n(C2CCCN(C(=O)c3nc(C)n4ccccc34)C2)n1   \n",
       "601      CHEMBL3496335              COc1cc(/C=C/c2ncc(C(=O)O)s2)cc(Cl)c1O   \n",
       "602      CHEMBL3496335              COc1cc(/C=C/c2ncc(C(=O)O)s2)cc(Cl)c1O   \n",
       "\n",
       "    bioactivity_class       MW     LogP  NumHDonors  NumHAcceptors     pIC50  \n",
       "0              active  393.483  5.21400         1.0            5.0  6.585027  \n",
       "1              active  380.444  3.85650         3.0            5.0  9.721246  \n",
       "2            inactive  262.357  0.94970         3.0            4.0  4.220023  \n",
       "3            inactive  262.357  0.94970         3.0            4.0  4.602485  \n",
       "4            inactive  274.368  0.95130         3.0            4.0  4.142840  \n",
       "..                ...      ...      ...         ...            ...       ...  \n",
       "598          inactive  316.405  1.36482         2.0            5.0  4.000000  \n",
       "599      intermediate  338.415  2.32836         0.0            6.0  5.056742  \n",
       "600          inactive  338.415  2.32836         0.0            6.0  4.896372  \n",
       "601          inactive  311.746  3.37930         2.0            5.0  4.625968  \n",
       "602          inactive  311.746  3.37930         2.0            5.0  4.728436  \n",
       "\n",
       "[603 rows x 8 columns]"
      ]
     },
     "execution_count": 53,
     "metadata": {},
     "output_type": "execute_result"
    }
   ],
   "source": [
    "df_final = pIC50(df_norm)\n",
    "df_final"
   ]
  },
  {
   "cell_type": "code",
   "execution_count": 54,
   "metadata": {},
   "outputs": [
    {
     "data": {
      "text/plain": [
       "count    603.000000\n",
       "mean       4.314884\n",
       "std        0.458312\n",
       "min        4.000000\n",
       "25%        4.000000\n",
       "50%        4.000000\n",
       "75%        4.642309\n",
       "max        9.721246\n",
       "Name: pIC50, dtype: float64"
      ]
     },
     "execution_count": 54,
     "metadata": {},
     "output_type": "execute_result"
    }
   ],
   "source": [
    "df_final.pIC50.describe()"
   ]
  },
  {
   "cell_type": "markdown",
   "metadata": {},
   "source": [
    "# Remove the \"intermediate\" bioactivity class"
   ]
  },
  {
   "cell_type": "markdown",
   "metadata": {},
   "source": [
    "The intermediate bioactivity class will be removed from the data set to enable simple comparison between the classes."
   ]
  },
  {
   "cell_type": "code",
   "execution_count": 55,
   "metadata": {},
   "outputs": [
    {
     "data": {
      "text/html": [
       "<div>\n",
       "<style scoped>\n",
       "    .dataframe tbody tr th:only-of-type {\n",
       "        vertical-align: middle;\n",
       "    }\n",
       "\n",
       "    .dataframe tbody tr th {\n",
       "        vertical-align: top;\n",
       "    }\n",
       "\n",
       "    .dataframe thead th {\n",
       "        text-align: right;\n",
       "    }\n",
       "</style>\n",
       "<table border=\"1\" class=\"dataframe\">\n",
       "  <thead>\n",
       "    <tr style=\"text-align: right;\">\n",
       "      <th></th>\n",
       "      <th>molecule_chembl_id</th>\n",
       "      <th>canonical_smiles</th>\n",
       "      <th>bioactivity_class</th>\n",
       "      <th>MW</th>\n",
       "      <th>LogP</th>\n",
       "      <th>NumHDonors</th>\n",
       "      <th>NumHAcceptors</th>\n",
       "      <th>pIC50</th>\n",
       "    </tr>\n",
       "  </thead>\n",
       "  <tbody>\n",
       "    <tr>\n",
       "      <th>0</th>\n",
       "      <td>CHEMBL4063356</td>\n",
       "      <td>CCOC(=O)c1c(-c2ccccc2)oc2ccc(O)c(CN3CCC(C)CC3)c12</td>\n",
       "      <td>active</td>\n",
       "      <td>393.483</td>\n",
       "      <td>5.21400</td>\n",
       "      <td>1.0</td>\n",
       "      <td>5.0</td>\n",
       "      <td>6.585027</td>\n",
       "    </tr>\n",
       "    <tr>\n",
       "      <th>1</th>\n",
       "      <td>CHEMBL4443524</td>\n",
       "      <td>CNC(=O)c1c(-c2ccc(O)cc2)oc2ccc(O)c(CN3CCCCC3)c12</td>\n",
       "      <td>active</td>\n",
       "      <td>380.444</td>\n",
       "      <td>3.85650</td>\n",
       "      <td>3.0</td>\n",
       "      <td>5.0</td>\n",
       "      <td>9.721246</td>\n",
       "    </tr>\n",
       "    <tr>\n",
       "      <th>2</th>\n",
       "      <td>CHEMBL3442631</td>\n",
       "      <td>CNC(=O)c1cc2c(nc1NC(C)C)CCNCC2</td>\n",
       "      <td>inactive</td>\n",
       "      <td>262.357</td>\n",
       "      <td>0.94970</td>\n",
       "      <td>3.0</td>\n",
       "      <td>4.0</td>\n",
       "      <td>4.220023</td>\n",
       "    </tr>\n",
       "    <tr>\n",
       "      <th>3</th>\n",
       "      <td>CHEMBL3442631</td>\n",
       "      <td>CNC(=O)c1cc2c(nc1NC(C)C)CCNCC2</td>\n",
       "      <td>inactive</td>\n",
       "      <td>262.357</td>\n",
       "      <td>0.94970</td>\n",
       "      <td>3.0</td>\n",
       "      <td>4.0</td>\n",
       "      <td>4.602485</td>\n",
       "    </tr>\n",
       "    <tr>\n",
       "      <th>4</th>\n",
       "      <td>CHEMBL3442632</td>\n",
       "      <td>CNC(=O)c1cc2c(nc1NCC1CC1)CCNCC2</td>\n",
       "      <td>inactive</td>\n",
       "      <td>274.368</td>\n",
       "      <td>0.95130</td>\n",
       "      <td>3.0</td>\n",
       "      <td>4.0</td>\n",
       "      <td>4.142840</td>\n",
       "    </tr>\n",
       "    <tr>\n",
       "      <th>...</th>\n",
       "      <td>...</td>\n",
       "      <td>...</td>\n",
       "      <td>...</td>\n",
       "      <td>...</td>\n",
       "      <td>...</td>\n",
       "      <td>...</td>\n",
       "      <td>...</td>\n",
       "      <td>...</td>\n",
       "    </tr>\n",
       "    <tr>\n",
       "      <th>597</th>\n",
       "      <td>CHEMBL3487994</td>\n",
       "      <td>Cc1cnn(CC(C)NCC(=O)NCCOc2ccccc2)c1</td>\n",
       "      <td>inactive</td>\n",
       "      <td>316.405</td>\n",
       "      <td>1.36482</td>\n",
       "      <td>2.0</td>\n",
       "      <td>5.0</td>\n",
       "      <td>4.000000</td>\n",
       "    </tr>\n",
       "    <tr>\n",
       "      <th>598</th>\n",
       "      <td>CHEMBL3487994</td>\n",
       "      <td>Cc1cnn(CC(C)NCC(=O)NCCOc2ccccc2)c1</td>\n",
       "      <td>inactive</td>\n",
       "      <td>316.405</td>\n",
       "      <td>1.36482</td>\n",
       "      <td>2.0</td>\n",
       "      <td>5.0</td>\n",
       "      <td>4.000000</td>\n",
       "    </tr>\n",
       "    <tr>\n",
       "      <th>600</th>\n",
       "      <td>CHEMBL3493579</td>\n",
       "      <td>Cc1nc(C)n(C2CCCN(C(=O)c3nc(C)n4ccccc34)C2)n1</td>\n",
       "      <td>inactive</td>\n",
       "      <td>338.415</td>\n",
       "      <td>2.32836</td>\n",
       "      <td>0.0</td>\n",
       "      <td>6.0</td>\n",
       "      <td>4.896372</td>\n",
       "    </tr>\n",
       "    <tr>\n",
       "      <th>601</th>\n",
       "      <td>CHEMBL3496335</td>\n",
       "      <td>COc1cc(/C=C/c2ncc(C(=O)O)s2)cc(Cl)c1O</td>\n",
       "      <td>inactive</td>\n",
       "      <td>311.746</td>\n",
       "      <td>3.37930</td>\n",
       "      <td>2.0</td>\n",
       "      <td>5.0</td>\n",
       "      <td>4.625968</td>\n",
       "    </tr>\n",
       "    <tr>\n",
       "      <th>602</th>\n",
       "      <td>CHEMBL3496335</td>\n",
       "      <td>COc1cc(/C=C/c2ncc(C(=O)O)s2)cc(Cl)c1O</td>\n",
       "      <td>inactive</td>\n",
       "      <td>311.746</td>\n",
       "      <td>3.37930</td>\n",
       "      <td>2.0</td>\n",
       "      <td>5.0</td>\n",
       "      <td>4.728436</td>\n",
       "    </tr>\n",
       "  </tbody>\n",
       "</table>\n",
       "<p>575 rows × 8 columns</p>\n",
       "</div>"
      ],
      "text/plain": [
       "    molecule_chembl_id                                   canonical_smiles  \\\n",
       "0        CHEMBL4063356  CCOC(=O)c1c(-c2ccccc2)oc2ccc(O)c(CN3CCC(C)CC3)c12   \n",
       "1        CHEMBL4443524   CNC(=O)c1c(-c2ccc(O)cc2)oc2ccc(O)c(CN3CCCCC3)c12   \n",
       "2        CHEMBL3442631                     CNC(=O)c1cc2c(nc1NC(C)C)CCNCC2   \n",
       "3        CHEMBL3442631                     CNC(=O)c1cc2c(nc1NC(C)C)CCNCC2   \n",
       "4        CHEMBL3442632                    CNC(=O)c1cc2c(nc1NCC1CC1)CCNCC2   \n",
       "..                 ...                                                ...   \n",
       "597      CHEMBL3487994                 Cc1cnn(CC(C)NCC(=O)NCCOc2ccccc2)c1   \n",
       "598      CHEMBL3487994                 Cc1cnn(CC(C)NCC(=O)NCCOc2ccccc2)c1   \n",
       "600      CHEMBL3493579       Cc1nc(C)n(C2CCCN(C(=O)c3nc(C)n4ccccc34)C2)n1   \n",
       "601      CHEMBL3496335              COc1cc(/C=C/c2ncc(C(=O)O)s2)cc(Cl)c1O   \n",
       "602      CHEMBL3496335              COc1cc(/C=C/c2ncc(C(=O)O)s2)cc(Cl)c1O   \n",
       "\n",
       "    bioactivity_class       MW     LogP  NumHDonors  NumHAcceptors     pIC50  \n",
       "0              active  393.483  5.21400         1.0            5.0  6.585027  \n",
       "1              active  380.444  3.85650         3.0            5.0  9.721246  \n",
       "2            inactive  262.357  0.94970         3.0            4.0  4.220023  \n",
       "3            inactive  262.357  0.94970         3.0            4.0  4.602485  \n",
       "4            inactive  274.368  0.95130         3.0            4.0  4.142840  \n",
       "..                ...      ...      ...         ...            ...       ...  \n",
       "597          inactive  316.405  1.36482         2.0            5.0  4.000000  \n",
       "598          inactive  316.405  1.36482         2.0            5.0  4.000000  \n",
       "600          inactive  338.415  2.32836         0.0            6.0  4.896372  \n",
       "601          inactive  311.746  3.37930         2.0            5.0  4.625968  \n",
       "602          inactive  311.746  3.37930         2.0            5.0  4.728436  \n",
       "\n",
       "[575 rows x 8 columns]"
      ]
     },
     "execution_count": 55,
     "metadata": {},
     "output_type": "execute_result"
    }
   ],
   "source": [
    "df_2class = df_final[df_final.bioactivity_class != 'intermediate']\n",
    "df_2class"
   ]
  },
  {
   "cell_type": "code",
   "execution_count": 56,
   "metadata": {},
   "outputs": [],
   "source": [
    "df_2class.to_csv('Pks13_bioactivity_data_2class_pIC50.csv')"
   ]
  },
  {
   "cell_type": "markdown",
   "metadata": {},
   "source": [
    "# Chemical Space Analysis via Lipinski descriptors"
   ]
  },
  {
   "cell_type": "code",
   "execution_count": 57,
   "metadata": {},
   "outputs": [],
   "source": [
    "import seaborn as sns\n",
    "sns.set_style(\"ticks\")\n",
    "import matplotlib.pyplot as plt"
   ]
  },
  {
   "cell_type": "markdown",
   "metadata": {},
   "source": [
    "Frequency plot of the two biactivity classes"
   ]
  },
  {
   "cell_type": "code",
   "execution_count": 58,
   "metadata": {},
   "outputs": [
    {
     "data": {
      "image/png": "[encoded data removed]",
      "text/plain": [
       "<Figure size 396x396 with 1 Axes>"
      ]
     },
     "metadata": {},
     "output_type": "display_data"
    }
   ],
   "source": [
    "plt.figure(figsize=(5.5, 5.5))\n",
    "\n",
    "sns.countplot(x='bioactivity_class', data=df_2class, edgecolor='black')\n",
    "\n",
    "plt.xlabel('Bioactivity class', fontsize=14, fontweight='bold')\n",
    "plt.ylabel('Frequency', fontsize=14, fontweight='bold')\n",
    "\n",
    "plt.savefig('plot_bioactivity_class.pdf')"
   ]
  },
  {
   "cell_type": "markdown",
   "metadata": {},
   "source": [
    "Scatter plot of MW versus LogP"
   ]
  },
  {
   "cell_type": "code",
   "execution_count": 59,
   "metadata": {},
   "outputs": [
    {
     "data": {
      "image/png": "[encoded data removed]",
      "text/plain": [
       "<Figure size 396x396 with 1 Axes>"
      ]
     },
     "metadata": {},
     "output_type": "display_data"
    }
   ],
   "source": [
    "plt.figure(figsize=(5.5, 5.5))\n",
    "\n",
    "sns.scatterplot(x='MW', y='LogP', data=df_2class, hue='bioactivity_class', size='pIC50', edgecolor='black', alpha=0.7)\n",
    "\n",
    "plt.xlabel('MW', fontsize=14, fontweight='bold')\n",
    "plt.ylabel('LogP', fontsize=14, fontweight='bold')\n",
    "plt.legend(bbox_to_anchor=(1.05, 1), loc=2, borderaxespad=0)\n",
    "plt.savefig('plot_MW_vs_LogP.pdf')"
   ]
  },
  {
   "cell_type": "markdown",
   "metadata": {},
   "source": [
    "This plot demonstrates that the two bioactivity classes, for the most part, span similar chemical spaces."
   ]
  },
  {
   "cell_type": "markdown",
   "metadata": {},
   "source": [
    "Box plot of pIC50 value"
   ]
  },
  {
   "cell_type": "code",
   "execution_count": 60,
   "metadata": {},
   "outputs": [
    {
     "data": {
      "image/png": "[encoded data removed]",
      "text/plain": [
       "<Figure size 396x396 with 1 Axes>"
      ]
     },
     "metadata": {},
     "output_type": "display_data"
    }
   ],
   "source": [
    "plt.figure(figsize=(5.5, 5.5))\n",
    "\n",
    "sns.boxplot(x = 'bioactivity_class', y = 'pIC50', data = df_2class)\n",
    "\n",
    "plt.xlabel('Bioactivity class', fontsize=14, fontweight='bold')\n",
    "plt.ylabel('pIC50 value', fontsize=14, fontweight='bold')\n",
    "\n",
    "plt.savefig('plot_ic50.pdf')"
   ]
  },
  {
   "cell_type": "markdown",
   "metadata": {},
   "source": [
    "Utilize the Mann-Whitney U Test for statistical analysis"
   ]
  },
  {
   "cell_type": "code",
   "execution_count": 61,
   "metadata": {},
   "outputs": [],
   "source": [
    "def mannwhitney(descriptor, verbose=False):\n",
    "  # https://machinelearningmastery.com/nonparametric-statistical-significance-tests-in-python/\n",
    "  from numpy.random import seed\n",
    "  from numpy.random import randn\n",
    "  from scipy.stats import mannwhitneyu\n",
    "\n",
    "# seed the random number generator\n",
    "  seed(1)\n",
    "\n",
    "# actives and inactives\n",
    "  selection = [descriptor, 'bioactivity_class']\n",
    "  df = df_2class[selection]\n",
    "  active = df[df.bioactivity_class == 'active']\n",
    "  active = active[descriptor]\n",
    "\n",
    "  selection = [descriptor, 'bioactivity_class']\n",
    "  df = df_2class[selection]\n",
    "  inactive = df[df.bioactivity_class == 'inactive']\n",
    "  inactive = inactive[descriptor]\n",
    "\n",
    "# compare samples\n",
    "  stat, p = mannwhitneyu(active, inactive)\n",
    "  #print('Statistics=%.3f, p=%.3f' % (stat, p))\n",
    "\n",
    "# interpret\n",
    "  alpha = 0.05\n",
    "  if p > alpha:\n",
    "    interpretation = 'Same distribution (fail to reject H0)'\n",
    "  else:\n",
    "    interpretation = 'Different distribution (reject H0)'\n",
    "  \n",
    "  results = pd.DataFrame({'Descriptor':descriptor,\n",
    "                          'Statistics':stat,\n",
    "                          'p':p,\n",
    "                          'alpha':alpha,\n",
    "                          'Interpretation':interpretation}, index=[0])\n",
    "  filename = 'mannwhitneyu_' + descriptor + '.csv'\n",
    "  results.to_csv(filename)\n",
    "\n",
    "  return results"
   ]
  },
  {
   "cell_type": "code",
   "execution_count": 62,
   "metadata": {},
   "outputs": [
    {
     "data": {
      "text/html": [
       "<div>\n",
       "<style scoped>\n",
       "    .dataframe tbody tr th:only-of-type {\n",
       "        vertical-align: middle;\n",
       "    }\n",
       "\n",
       "    .dataframe tbody tr th {\n",
       "        vertical-align: top;\n",
       "    }\n",
       "\n",
       "    .dataframe thead th {\n",
       "        text-align: right;\n",
       "    }\n",
       "</style>\n",
       "<table border=\"1\" class=\"dataframe\">\n",
       "  <thead>\n",
       "    <tr style=\"text-align: right;\">\n",
       "      <th></th>\n",
       "      <th>Descriptor</th>\n",
       "      <th>Statistics</th>\n",
       "      <th>p</th>\n",
       "      <th>alpha</th>\n",
       "      <th>Interpretation</th>\n",
       "    </tr>\n",
       "  </thead>\n",
       "  <tbody>\n",
       "    <tr>\n",
       "      <th>0</th>\n",
       "      <td>pIC50</td>\n",
       "      <td>1716.0</td>\n",
       "      <td>0.000873</td>\n",
       "      <td>0.05</td>\n",
       "      <td>Different distribution (reject H0)</td>\n",
       "    </tr>\n",
       "  </tbody>\n",
       "</table>\n",
       "</div>"
      ],
      "text/plain": [
       "  Descriptor  Statistics         p  alpha                      Interpretation\n",
       "0      pIC50      1716.0  0.000873   0.05  Different distribution (reject H0)"
      ]
     },
     "execution_count": 62,
     "metadata": {},
     "output_type": "execute_result"
    }
   ],
   "source": [
    "mannwhitney('pIC50')"
   ]
  },
  {
   "cell_type": "markdown",
   "metadata": {},
   "source": [
    "Box plot of molecular weight"
   ]
  },
  {
   "cell_type": "code",
   "execution_count": 63,
   "metadata": {},
   "outputs": [
    {
     "data": {
      "image/png": "[encoded data removed]",
      "text/plain": [
       "<Figure size 396x396 with 1 Axes>"
      ]
     },
     "metadata": {},
     "output_type": "display_data"
    }
   ],
   "source": [
    "plt.figure(figsize=(5.5, 5.5))\n",
    "\n",
    "sns.boxplot(x = 'bioactivity_class', y = 'MW', data = df_2class)\n",
    "\n",
    "plt.xlabel('Bioactivity class', fontsize=14, fontweight='bold')\n",
    "plt.ylabel('MW', fontsize=14, fontweight='bold')\n",
    "\n",
    "plt.savefig('plot_MW.pdf')"
   ]
  },
  {
   "cell_type": "code",
   "execution_count": 64,
   "metadata": {},
   "outputs": [
    {
     "data": {
      "text/html": [
       "<div>\n",
       "<style scoped>\n",
       "    .dataframe tbody tr th:only-of-type {\n",
       "        vertical-align: middle;\n",
       "    }\n",
       "\n",
       "    .dataframe tbody tr th {\n",
       "        vertical-align: top;\n",
       "    }\n",
       "\n",
       "    .dataframe thead th {\n",
       "        text-align: right;\n",
       "    }\n",
       "</style>\n",
       "<table border=\"1\" class=\"dataframe\">\n",
       "  <thead>\n",
       "    <tr style=\"text-align: right;\">\n",
       "      <th></th>\n",
       "      <th>Descriptor</th>\n",
       "      <th>Statistics</th>\n",
       "      <th>p</th>\n",
       "      <th>alpha</th>\n",
       "      <th>Interpretation</th>\n",
       "    </tr>\n",
       "  </thead>\n",
       "  <tbody>\n",
       "    <tr>\n",
       "      <th>0</th>\n",
       "      <td>MW</td>\n",
       "      <td>1463.0</td>\n",
       "      <td>0.035179</td>\n",
       "      <td>0.05</td>\n",
       "      <td>Different distribution (reject H0)</td>\n",
       "    </tr>\n",
       "  </tbody>\n",
       "</table>\n",
       "</div>"
      ],
      "text/plain": [
       "  Descriptor  Statistics         p  alpha                      Interpretation\n",
       "0         MW      1463.0  0.035179   0.05  Different distribution (reject H0)"
      ]
     },
     "execution_count": 64,
     "metadata": {},
     "output_type": "execute_result"
    }
   ],
   "source": [
    "mannwhitney('MW')"
   ]
  },
  {
   "cell_type": "markdown",
   "metadata": {},
   "source": [
    "Box plot of LogP"
   ]
  },
  {
   "cell_type": "code",
   "execution_count": 65,
   "metadata": {},
   "outputs": [
    {
     "data": {
      "image/png": "[encoded data removed]",
      "text/plain": [
       "<Figure size 396x396 with 1 Axes>"
      ]
     },
     "metadata": {},
     "output_type": "display_data"
    }
   ],
   "source": [
    "plt.figure(figsize=(5.5, 5.5))\n",
    "\n",
    "sns.boxplot(x = 'bioactivity_class', y = 'LogP', data = df_2class)\n",
    "\n",
    "plt.xlabel('Bioactivity class', fontsize=14, fontweight='bold')\n",
    "plt.ylabel('LogP', fontsize=14, fontweight='bold')\n",
    "\n",
    "plt.savefig('plot_LogP.pdf')"
   ]
  },
  {
   "cell_type": "code",
   "execution_count": 66,
   "metadata": {},
   "outputs": [
    {
     "data": {
      "text/html": [
       "<div>\n",
       "<style scoped>\n",
       "    .dataframe tbody tr th:only-of-type {\n",
       "        vertical-align: middle;\n",
       "    }\n",
       "\n",
       "    .dataframe tbody tr th {\n",
       "        vertical-align: top;\n",
       "    }\n",
       "\n",
       "    .dataframe thead th {\n",
       "        text-align: right;\n",
       "    }\n",
       "</style>\n",
       "<table border=\"1\" class=\"dataframe\">\n",
       "  <thead>\n",
       "    <tr style=\"text-align: right;\">\n",
       "      <th></th>\n",
       "      <th>Descriptor</th>\n",
       "      <th>Statistics</th>\n",
       "      <th>p</th>\n",
       "      <th>alpha</th>\n",
       "      <th>Interpretation</th>\n",
       "    </tr>\n",
       "  </thead>\n",
       "  <tbody>\n",
       "    <tr>\n",
       "      <th>0</th>\n",
       "      <td>LogP</td>\n",
       "      <td>1591.0</td>\n",
       "      <td>0.010702</td>\n",
       "      <td>0.05</td>\n",
       "      <td>Different distribution (reject H0)</td>\n",
       "    </tr>\n",
       "  </tbody>\n",
       "</table>\n",
       "</div>"
      ],
      "text/plain": [
       "  Descriptor  Statistics         p  alpha                      Interpretation\n",
       "0       LogP      1591.0  0.010702   0.05  Different distribution (reject H0)"
      ]
     },
     "execution_count": 66,
     "metadata": {},
     "output_type": "execute_result"
    }
   ],
   "source": [
    "mannwhitney('LogP')"
   ]
  },
  {
   "cell_type": "markdown",
   "metadata": {},
   "source": [
    "Box plot of NumHDonors"
   ]
  },
  {
   "cell_type": "code",
   "execution_count": 67,
   "metadata": {},
   "outputs": [
    {
     "data": {
      "image/png": "[encoded data removed]",
      "text/plain": [
       "<Figure size 396x396 with 1 Axes>"
      ]
     },
     "metadata": {},
     "output_type": "display_data"
    }
   ],
   "source": [
    "plt.figure(figsize=(5.5, 5.5))\n",
    "\n",
    "sns.boxplot(x = 'bioactivity_class', y = 'NumHDonors', data = df_2class)\n",
    "\n",
    "plt.xlabel('Bioactivity class', fontsize=14, fontweight='bold')\n",
    "plt.ylabel('NumHDonors', fontsize=14, fontweight='bold')\n",
    "\n",
    "plt.savefig('plot_NumHDonors.pdf')"
   ]
  },
  {
   "cell_type": "code",
   "execution_count": 68,
   "metadata": {},
   "outputs": [
    {
     "data": {
      "text/html": [
       "<div>\n",
       "<style scoped>\n",
       "    .dataframe tbody tr th:only-of-type {\n",
       "        vertical-align: middle;\n",
       "    }\n",
       "\n",
       "    .dataframe tbody tr th {\n",
       "        vertical-align: top;\n",
       "    }\n",
       "\n",
       "    .dataframe thead th {\n",
       "        text-align: right;\n",
       "    }\n",
       "</style>\n",
       "<table border=\"1\" class=\"dataframe\">\n",
       "  <thead>\n",
       "    <tr style=\"text-align: right;\">\n",
       "      <th></th>\n",
       "      <th>Descriptor</th>\n",
       "      <th>Statistics</th>\n",
       "      <th>p</th>\n",
       "      <th>alpha</th>\n",
       "      <th>Interpretation</th>\n",
       "    </tr>\n",
       "  </thead>\n",
       "  <tbody>\n",
       "    <tr>\n",
       "      <th>0</th>\n",
       "      <td>NumHDonors</td>\n",
       "      <td>1238.5</td>\n",
       "      <td>0.160194</td>\n",
       "      <td>0.05</td>\n",
       "      <td>Same distribution (fail to reject H0)</td>\n",
       "    </tr>\n",
       "  </tbody>\n",
       "</table>\n",
       "</div>"
      ],
      "text/plain": [
       "   Descriptor  Statistics         p  alpha  \\\n",
       "0  NumHDonors      1238.5  0.160194   0.05   \n",
       "\n",
       "                          Interpretation  \n",
       "0  Same distribution (fail to reject H0)  "
      ]
     },
     "execution_count": 68,
     "metadata": {},
     "output_type": "execute_result"
    }
   ],
   "source": [
    "mannwhitney('NumHDonors')"
   ]
  },
  {
   "cell_type": "markdown",
   "metadata": {},
   "source": [
    "Box plot of NumHAcceptors"
   ]
  },
  {
   "cell_type": "code",
   "execution_count": 69,
   "metadata": {},
   "outputs": [
    {
     "data": {
      "image/png": "[encoded data removed]",
      "text/plain": [
       "<Figure size 396x396 with 1 Axes>"
      ]
     },
     "metadata": {},
     "output_type": "display_data"
    }
   ],
   "source": [
    "plt.figure(figsize=(5.5, 5.5))\n",
    "\n",
    "sns.boxplot(x = 'bioactivity_class', y = 'NumHAcceptors', data = df_2class)\n",
    "\n",
    "plt.xlabel('Bioactivity class', fontsize=14, fontweight='bold')\n",
    "plt.ylabel('NumHAcceptors', fontsize=14, fontweight='bold')\n",
    "\n",
    "plt.savefig('plot_NumHAcceptors.pdf')"
   ]
  },
  {
   "cell_type": "code",
   "execution_count": 70,
   "metadata": {},
   "outputs": [
    {
     "data": {
      "text/html": [
       "<div>\n",
       "<style scoped>\n",
       "    .dataframe tbody tr th:only-of-type {\n",
       "        vertical-align: middle;\n",
       "    }\n",
       "\n",
       "    .dataframe tbody tr th {\n",
       "        vertical-align: top;\n",
       "    }\n",
       "\n",
       "    .dataframe thead th {\n",
       "        text-align: right;\n",
       "    }\n",
       "</style>\n",
       "<table border=\"1\" class=\"dataframe\">\n",
       "  <thead>\n",
       "    <tr style=\"text-align: right;\">\n",
       "      <th></th>\n",
       "      <th>Descriptor</th>\n",
       "      <th>Statistics</th>\n",
       "      <th>p</th>\n",
       "      <th>alpha</th>\n",
       "      <th>Interpretation</th>\n",
       "    </tr>\n",
       "  </thead>\n",
       "  <tbody>\n",
       "    <tr>\n",
       "      <th>0</th>\n",
       "      <td>NumHAcceptors</td>\n",
       "      <td>751.5</td>\n",
       "      <td>0.704804</td>\n",
       "      <td>0.05</td>\n",
       "      <td>Same distribution (fail to reject H0)</td>\n",
       "    </tr>\n",
       "  </tbody>\n",
       "</table>\n",
       "</div>"
      ],
      "text/plain": [
       "      Descriptor  Statistics         p  alpha  \\\n",
       "0  NumHAcceptors       751.5  0.704804   0.05   \n",
       "\n",
       "                          Interpretation  \n",
       "0  Same distribution (fail to reject H0)  "
      ]
     },
     "execution_count": 70,
     "metadata": {},
     "output_type": "execute_result"
    }
   ],
   "source": [
    "mannwhitney('NumHAcceptors')"
   ]
  },
  {
   "cell_type": "markdown",
   "metadata": {},
   "source": [
    "# Interpretation of statistical results"
   ]
  },
  {
   "cell_type": "markdown",
   "metadata": {},
   "source": [
    "According to the pIC50 values, the active and inactive compounds displayed statistically significant difference, which is to be expected given the IC50 values used to define active vs. inactive compounds.\n",
    "\n",
    "Summary of Lipinski's descriptors:\n",
    "- MW: different distribution\n",
    "- LogP: different distribution\n",
    "- NumHDonors: same distribution\n",
    "- NumHAcceptors: different distribution\n",
    "\n",
    "Thus, NumHDonors wa the only Lipinski descriptor for which no statistically significant difference between the active and inactive compounds was exhibited."
   ]
  }
 ],
 "metadata": {
  "interpreter": {
   "hash": "47021f12b6ab9d0bafa4e1b93273c92c156a643799991fe15aa32921a1a8a684"
  },
  "kernelspec": {
   "display_name": "Python 3.9.7 ('base')",
   "language": "python",
   "name": "python3"
  },
  "language_info": {
   "codemirror_mode": {
    "name": "ipython",
    "version": 3
   },
   "file_extension": ".py",
   "mimetype": "text/x-python",
   "name": "python",
   "nbconvert_exporter": "python",
   "pygments_lexer": "ipython3",
   "version": "3.10.4"
  },
  "orig_nbformat": 4
 },
 "nbformat": 4,
 "nbformat_minor": 2
}
